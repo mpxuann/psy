{
 "cells": [
  {
   "cell_type": "markdown",
   "id": "1f538e69",
   "metadata": {},
   "source": [
    "# 测试题"
   ]
  },
  {
   "cell_type": "markdown",
   "id": "b6ed1868",
   "metadata": {},
   "source": [
    "## 实现1"
   ]
  },
  {
   "cell_type": "code",
   "execution_count": 4,
   "id": "901ca215",
   "metadata": {},
   "outputs": [],
   "source": [
    "\n",
    "def count_ones_in_bin(num):\n",
    "    n_ones = 0\n",
    "    while num>0:\n",
    "        if num%2==1:\n",
    "            n_ones+=1\n",
    "        num//=2\n",
    "    return n_ones\n"
   ]
  },
  {
   "cell_type": "code",
   "execution_count": 5,
   "id": "cf8a3b81",
   "metadata": {},
   "outputs": [
    {
     "name": "stdout",
     "output_type": "stream",
     "text": [
      "3\n"
     ]
    }
   ],
   "source": [
    "L = 7\n",
    "print(count_ones_in_bin(L))\n"
   ]
  },
  {
   "cell_type": "markdown",
   "id": "4b137f1c",
   "metadata": {},
   "source": [
    "## 实现2"
   ]
  },
  {
   "cell_type": "code",
   "execution_count": 7,
   "id": "920ffe6e",
   "metadata": {},
   "outputs": [
    {
     "name": "stdout",
     "output_type": "stream",
     "text": [
      "0b10001\n",
      "0b10001\n"
     ]
    }
   ],
   "source": [
    "print(bin(17))\n",
    "print(str(bin(17)))\n"
   ]
  },
  {
   "cell_type": "code",
   "execution_count": 6,
   "id": "6e7d9d81",
   "metadata": {},
   "outputs": [],
   "source": [
    "\n",
    "def count_ones_in_bin(num):\n",
    "    num_bin = bin(num)\n",
    "    n_ones = str(num_bin).count('1')\n",
    "    return n_ones\n"
   ]
  },
  {
   "cell_type": "code",
   "execution_count": 8,
   "id": "d137f7b5",
   "metadata": {},
   "outputs": [
    {
     "name": "stdout",
     "output_type": "stream",
     "text": [
      "3\n"
     ]
    }
   ],
   "source": [
    "L = 7\n",
    "print(count_ones_in_bin(L))\n"
   ]
  },
  {
   "cell_type": "code",
   "execution_count": null,
   "id": "e321000d",
   "metadata": {},
   "outputs": [],
   "source": []
  }
 ],
 "metadata": {
  "kernelspec": {
   "display_name": "Python 3 (ipykernel)",
   "language": "python",
   "name": "python3"
  },
  "language_info": {
   "codemirror_mode": {
    "name": "ipython",
    "version": 3
   },
   "file_extension": ".py",
   "mimetype": "text/x-python",
   "name": "python",
   "nbconvert_exporter": "python",
   "pygments_lexer": "ipython3",
   "version": "3.8.12"
  }
 },
 "nbformat": 4,
 "nbformat_minor": 5
}
