{
 "cells": [
  {
   "cell_type": "code",
   "execution_count": 13,
   "id": "1e32caad",
   "metadata": {},
   "outputs": [],
   "source": [
    "import os\n",
    "import numpy as np\n",
    "import pandas as pd\n",
    "import matplotlib.pyplot as plt\n"
   ]
  },
  {
   "cell_type": "markdown",
   "id": "60652862",
   "metadata": {},
   "source": [
    "# Numpy\n",
    "## data generation"
   ]
  },
  {
   "cell_type": "code",
   "execution_count": 14,
   "id": "585f6fa8",
   "metadata": {},
   "outputs": [
    {
     "data": {
      "text/plain": [
       "array([[0.24473316, 0.27789947, 0.49557428, 0.56486935],\n",
       "       [0.06487474, 0.89460981, 0.99818535, 0.35261761],\n",
       "       [0.50948628, 0.26888122, 0.63657504, 0.94844776],\n",
       "       [0.44164103, 0.70763588, 0.54120444, 0.66116031],\n",
       "       [0.48750181, 0.9317027 , 0.33022319, 0.48597411],\n",
       "       [0.91679158, 0.06584191, 0.40443269, 0.40110857],\n",
       "       [0.25965825, 0.21584167, 0.68158255, 0.06789532],\n",
       "       [0.67095857, 0.84448292, 0.58074302, 0.73996651],\n",
       "       [0.84603677, 0.99743245, 0.8963453 , 0.83341948],\n",
       "       [0.86388897, 0.14687111, 0.55971701, 0.20901953],\n",
       "       [0.76140073, 0.7107393 , 0.56853944, 0.1538887 ],\n",
       "       [0.48411942, 0.15015198, 0.13916102, 0.84604656],\n",
       "       [0.03526712, 0.74973654, 0.83901472, 0.16148292],\n",
       "       [0.12378387, 0.43729607, 0.85854385, 0.40262748],\n",
       "       [0.20747612, 0.60112494, 0.43800235, 0.74073284],\n",
       "       [0.60641608, 0.53179554, 0.86931229, 0.92792699],\n",
       "       [0.06845579, 0.12024289, 0.21384776, 0.23330077],\n",
       "       [0.40073097, 0.24827701, 0.76898944, 0.8703039 ],\n",
       "       [0.3725892 , 0.55944757, 0.97357062, 0.90844352],\n",
       "       [0.45037052, 0.88287002, 0.59254204, 0.76255638]])"
      ]
     },
     "execution_count": 14,
     "metadata": {},
     "output_type": "execute_result"
    }
   ],
   "source": [
    "score = np.random.rand(20, 4)\n",
    "score"
   ]
  },
  {
   "cell_type": "markdown",
   "id": "c3e41663",
   "metadata": {},
   "source": [
    "## max()/min()/mean()/std()/sum()"
   ]
  },
  {
   "cell_type": "code",
   "execution_count": 15,
   "id": "4e25c42a",
   "metadata": {},
   "outputs": [
    {
     "name": "stdout",
     "output_type": "stream",
     "text": [
      "0.9981853483503859\n",
      "0.03526711554792983\n",
      "0.5352119631367643\n",
      "0.28336835714110437\n",
      "42.81695705094115\n"
     ]
    }
   ],
   "source": [
    "print(np.max(score))\n",
    "print(np.min(score))\n",
    "print(np.mean(score))\n",
    "print(np.std(score))\n",
    "print(np.sum(score))\n"
   ]
  },
  {
   "cell_type": "markdown",
   "id": "bda11771",
   "metadata": {},
   "source": [
    "## Axis"
   ]
  },
  {
   "cell_type": "code",
   "execution_count": 16,
   "id": "6f841a88",
   "metadata": {},
   "outputs": [
    {
     "name": "stdout",
     "output_type": "stream",
     "text": [
      "0.9981853483503859\n",
      "[0.91679158 0.99743245 0.99818535 0.94844776]\n",
      "[0.56486935 0.99818535 0.94844776 0.70763588 0.9317027  0.91679158\n",
      " 0.68158255 0.84448292 0.99743245 0.86388897 0.76140073 0.84604656\n",
      " 0.83901472 0.85854385 0.74073284 0.92792699 0.23330077 0.8703039\n",
      " 0.97357062 0.88287002]\n"
     ]
    }
   ],
   "source": [
    "print(np.max(score))\n",
    "print(np.max(score, axis=0))\n",
    "print(np.max(score, axis=1))\n"
   ]
  },
  {
   "cell_type": "markdown",
   "id": "cc84a746",
   "metadata": {},
   "source": [
    "## argmax()/argmin()"
   ]
  },
  {
   "cell_type": "code",
   "execution_count": 17,
   "id": "b77d08e3",
   "metadata": {},
   "outputs": [
    {
     "name": "stdout",
     "output_type": "stream",
     "text": [
      "[5 8 1 2]\n"
     ]
    }
   ],
   "source": [
    "print(np.argmax(score, axis=0))\n"
   ]
  },
  {
   "cell_type": "code",
   "execution_count": 18,
   "id": "b3075d3d",
   "metadata": {},
   "outputs": [
    {
     "name": "stdout",
     "output_type": "stream",
     "text": [
      "[[ 0.24473316  0.27789947  0.49557428  0.56486935]\n",
      " [ 0.3096079   1.17250929  1.49375963  0.91748696]\n",
      " [ 0.81909419  1.4413905   2.13033467  1.86593472]\n",
      " [ 1.26073522  2.14902639  2.67153911  2.52709504]\n",
      " [ 1.74823703  3.08072909  3.0017623   3.01306915]\n",
      " [ 2.6650286   3.146571    3.40619499  3.41417772]\n",
      " [ 2.92468686  3.36241267  4.08777754  3.48207304]\n",
      " [ 3.59564543  4.20689559  4.66852056  4.22203955]\n",
      " [ 4.4416822   5.20432804  5.56486586  5.05545903]\n",
      " [ 5.30557117  5.35119915  6.12458287  5.26447857]\n",
      " [ 6.0669719   6.06193845  6.6931223   5.41836727]\n",
      " [ 6.55109132  6.21209043  6.83228333  6.26441382]\n",
      " [ 6.58635844  6.96182698  7.67129804  6.42589675]\n",
      " [ 6.71014231  7.39912305  8.52984189  6.82852422]\n",
      " [ 6.91761843  8.00024799  8.96784424  7.56925706]\n",
      " [ 7.52403451  8.53204353  9.83715653  8.49718405]\n",
      " [ 7.5924903   8.65228642 10.0510043   8.73048483]\n",
      " [ 7.99322128  8.90056343 10.81999374  9.60078873]\n",
      " [ 8.36581047  9.460011   11.79356436 10.50923225]\n",
      " [ 8.81618099 10.34288103 12.3861064  11.27178863]]\n"
     ]
    }
   ],
   "source": [
    "print(np.cumsum(score, axis=0)) \n",
    "# cumulative sum"
   ]
  },
  {
   "cell_type": "markdown",
   "id": "2d2850bd",
   "metadata": {},
   "source": [
    "# Pandas\n",
    "## load csv data"
   ]
  },
  {
   "cell_type": "code",
   "execution_count": 19,
   "id": "55cd2386",
   "metadata": {},
   "outputs": [
    {
     "data": {
      "text/html": [
       "<div>\n",
       "<style scoped>\n",
       "    .dataframe tbody tr th:only-of-type {\n",
       "        vertical-align: middle;\n",
       "    }\n",
       "\n",
       "    .dataframe tbody tr th {\n",
       "        vertical-align: top;\n",
       "    }\n",
       "\n",
       "    .dataframe thead th {\n",
       "        text-align: right;\n",
       "    }\n",
       "</style>\n",
       "<table border=\"1\" class=\"dataframe\">\n",
       "  <thead>\n",
       "    <tr style=\"text-align: right;\">\n",
       "      <th></th>\n",
       "      <th>Subject</th>\n",
       "      <th>Gender</th>\n",
       "      <th>Age</th>\n",
       "      <th>NEOFAC_A</th>\n",
       "      <th>NEOFAC_O</th>\n",
       "      <th>NEOFAC_C</th>\n",
       "      <th>NEOFAC_N</th>\n",
       "      <th>NEOFAC_E</th>\n",
       "    </tr>\n",
       "  </thead>\n",
       "  <tbody>\n",
       "    <tr>\n",
       "      <th>0</th>\n",
       "      <td>100307</td>\n",
       "      <td>F</td>\n",
       "      <td>26-30</td>\n",
       "      <td>37.0</td>\n",
       "      <td>24.0</td>\n",
       "      <td>35.0</td>\n",
       "      <td>15.0</td>\n",
       "      <td>37.0</td>\n",
       "    </tr>\n",
       "    <tr>\n",
       "      <th>1</th>\n",
       "      <td>100408</td>\n",
       "      <td>M</td>\n",
       "      <td>31-35</td>\n",
       "      <td>33.0</td>\n",
       "      <td>29.0</td>\n",
       "      <td>34.0</td>\n",
       "      <td>15.0</td>\n",
       "      <td>33.0</td>\n",
       "    </tr>\n",
       "    <tr>\n",
       "      <th>2</th>\n",
       "      <td>101107</td>\n",
       "      <td>M</td>\n",
       "      <td>22-25</td>\n",
       "      <td>NaN</td>\n",
       "      <td>35.0</td>\n",
       "      <td>37.0</td>\n",
       "      <td>12.0</td>\n",
       "      <td>28.0</td>\n",
       "    </tr>\n",
       "    <tr>\n",
       "      <th>3</th>\n",
       "      <td>101309</td>\n",
       "      <td>M</td>\n",
       "      <td>26-30</td>\n",
       "      <td>NaN</td>\n",
       "      <td>22.0</td>\n",
       "      <td>36.0</td>\n",
       "      <td>2.0</td>\n",
       "      <td>26.0</td>\n",
       "    </tr>\n",
       "    <tr>\n",
       "      <th>4</th>\n",
       "      <td>101915</td>\n",
       "      <td>F</td>\n",
       "      <td>31-35</td>\n",
       "      <td>NaN</td>\n",
       "      <td>30.0</td>\n",
       "      <td>45.0</td>\n",
       "      <td>8.0</td>\n",
       "      <td>31.0</td>\n",
       "    </tr>\n",
       "    <tr>\n",
       "      <th>...</th>\n",
       "      <td>...</td>\n",
       "      <td>...</td>\n",
       "      <td>...</td>\n",
       "      <td>...</td>\n",
       "      <td>...</td>\n",
       "      <td>...</td>\n",
       "      <td>...</td>\n",
       "      <td>...</td>\n",
       "    </tr>\n",
       "    <tr>\n",
       "      <th>95</th>\n",
       "      <td>756055</td>\n",
       "      <td>M</td>\n",
       "      <td>22-25</td>\n",
       "      <td>37.0</td>\n",
       "      <td>29.0</td>\n",
       "      <td>36.0</td>\n",
       "      <td>12.0</td>\n",
       "      <td>36.0</td>\n",
       "    </tr>\n",
       "    <tr>\n",
       "      <th>96</th>\n",
       "      <td>792564</td>\n",
       "      <td>F</td>\n",
       "      <td>31-35</td>\n",
       "      <td>43.0</td>\n",
       "      <td>29.0</td>\n",
       "      <td>39.0</td>\n",
       "      <td>14.0</td>\n",
       "      <td>37.0</td>\n",
       "    </tr>\n",
       "    <tr>\n",
       "      <th>97</th>\n",
       "      <td>856766</td>\n",
       "      <td>F</td>\n",
       "      <td>31-35</td>\n",
       "      <td>37.0</td>\n",
       "      <td>28.0</td>\n",
       "      <td>39.0</td>\n",
       "      <td>20.0</td>\n",
       "      <td>38.0</td>\n",
       "    </tr>\n",
       "    <tr>\n",
       "      <th>98</th>\n",
       "      <td>857263</td>\n",
       "      <td>M</td>\n",
       "      <td>22-25</td>\n",
       "      <td>36.0</td>\n",
       "      <td>23.0</td>\n",
       "      <td>42.0</td>\n",
       "      <td>12.0</td>\n",
       "      <td>30.0</td>\n",
       "    </tr>\n",
       "    <tr>\n",
       "      <th>99</th>\n",
       "      <td>899885</td>\n",
       "      <td>F</td>\n",
       "      <td>26-30</td>\n",
       "      <td>33.0</td>\n",
       "      <td>20.0</td>\n",
       "      <td>40.0</td>\n",
       "      <td>17.0</td>\n",
       "      <td>16.0</td>\n",
       "    </tr>\n",
       "  </tbody>\n",
       "</table>\n",
       "<p>100 rows × 8 columns</p>\n",
       "</div>"
      ],
      "text/plain": [
       "    Subject Gender    Age  NEOFAC_A  NEOFAC_O  NEOFAC_C  NEOFAC_N  NEOFAC_E\n",
       "0    100307      F  26-30      37.0      24.0      35.0      15.0      37.0\n",
       "1    100408      M  31-35      33.0      29.0      34.0      15.0      33.0\n",
       "2    101107      M  22-25       NaN      35.0      37.0      12.0      28.0\n",
       "3    101309      M  26-30       NaN      22.0      36.0       2.0      26.0\n",
       "4    101915      F  31-35       NaN      30.0      45.0       8.0      31.0\n",
       "..      ...    ...    ...       ...       ...       ...       ...       ...\n",
       "95   756055      M  22-25      37.0      29.0      36.0      12.0      36.0\n",
       "96   792564      F  31-35      43.0      29.0      39.0      14.0      37.0\n",
       "97   856766      F  31-35      37.0      28.0      39.0      20.0      38.0\n",
       "98   857263      M  22-25      36.0      23.0      42.0      12.0      30.0\n",
       "99   899885      F  26-30      33.0      20.0      40.0      17.0      16.0\n",
       "\n",
       "[100 rows x 8 columns]"
      ]
     },
     "execution_count": 19,
     "metadata": {},
     "output_type": "execute_result"
    }
   ],
   "source": [
    "dat = pd.read_csv('dat_nan.csv')\n",
    "dat"
   ]
  },
  {
   "cell_type": "code",
   "execution_count": 20,
   "id": "38508e19",
   "metadata": {},
   "outputs": [
    {
     "data": {
      "text/html": [
       "<div>\n",
       "<style scoped>\n",
       "    .dataframe tbody tr th:only-of-type {\n",
       "        vertical-align: middle;\n",
       "    }\n",
       "\n",
       "    .dataframe tbody tr th {\n",
       "        vertical-align: top;\n",
       "    }\n",
       "\n",
       "    .dataframe thead th {\n",
       "        text-align: right;\n",
       "    }\n",
       "</style>\n",
       "<table border=\"1\" class=\"dataframe\">\n",
       "  <thead>\n",
       "    <tr style=\"text-align: right;\">\n",
       "      <th></th>\n",
       "      <th>Subject</th>\n",
       "      <th>NEOFAC_A</th>\n",
       "      <th>NEOFAC_O</th>\n",
       "      <th>NEOFAC_C</th>\n",
       "      <th>NEOFAC_N</th>\n",
       "      <th>NEOFAC_E</th>\n",
       "    </tr>\n",
       "  </thead>\n",
       "  <tbody>\n",
       "    <tr>\n",
       "      <th>count</th>\n",
       "      <td>100.000000</td>\n",
       "      <td>87.000000</td>\n",
       "      <td>98.000000</td>\n",
       "      <td>93.000000</td>\n",
       "      <td>98.000000</td>\n",
       "      <td>92.000000</td>\n",
       "    </tr>\n",
       "    <tr>\n",
       "      <th>mean</th>\n",
       "      <td>209532.600000</td>\n",
       "      <td>33.091954</td>\n",
       "      <td>27.826531</td>\n",
       "      <td>35.311828</td>\n",
       "      <td>16.459184</td>\n",
       "      <td>29.847826</td>\n",
       "    </tr>\n",
       "    <tr>\n",
       "      <th>std</th>\n",
       "      <td>183354.810978</td>\n",
       "      <td>5.747865</td>\n",
       "      <td>5.897799</td>\n",
       "      <td>5.004299</td>\n",
       "      <td>6.895641</td>\n",
       "      <td>6.112381</td>\n",
       "    </tr>\n",
       "    <tr>\n",
       "      <th>min</th>\n",
       "      <td>100307.000000</td>\n",
       "      <td>15.000000</td>\n",
       "      <td>15.000000</td>\n",
       "      <td>18.000000</td>\n",
       "      <td>0.000000</td>\n",
       "      <td>11.000000</td>\n",
       "    </tr>\n",
       "    <tr>\n",
       "      <th>25%</th>\n",
       "      <td>121765.500000</td>\n",
       "      <td>30.000000</td>\n",
       "      <td>24.000000</td>\n",
       "      <td>33.000000</td>\n",
       "      <td>12.000000</td>\n",
       "      <td>26.000000</td>\n",
       "    </tr>\n",
       "    <tr>\n",
       "      <th>50%</th>\n",
       "      <td>145632.000000</td>\n",
       "      <td>33.000000</td>\n",
       "      <td>27.000000</td>\n",
       "      <td>36.000000</td>\n",
       "      <td>16.000000</td>\n",
       "      <td>31.000000</td>\n",
       "    </tr>\n",
       "    <tr>\n",
       "      <th>75%</th>\n",
       "      <td>197175.250000</td>\n",
       "      <td>37.000000</td>\n",
       "      <td>30.000000</td>\n",
       "      <td>39.000000</td>\n",
       "      <td>19.750000</td>\n",
       "      <td>34.000000</td>\n",
       "    </tr>\n",
       "    <tr>\n",
       "      <th>max</th>\n",
       "      <td>899885.000000</td>\n",
       "      <td>45.000000</td>\n",
       "      <td>44.000000</td>\n",
       "      <td>45.000000</td>\n",
       "      <td>39.000000</td>\n",
       "      <td>40.000000</td>\n",
       "    </tr>\n",
       "  </tbody>\n",
       "</table>\n",
       "</div>"
      ],
      "text/plain": [
       "             Subject   NEOFAC_A   NEOFAC_O   NEOFAC_C   NEOFAC_N   NEOFAC_E\n",
       "count     100.000000  87.000000  98.000000  93.000000  98.000000  92.000000\n",
       "mean   209532.600000  33.091954  27.826531  35.311828  16.459184  29.847826\n",
       "std    183354.810978   5.747865   5.897799   5.004299   6.895641   6.112381\n",
       "min    100307.000000  15.000000  15.000000  18.000000   0.000000  11.000000\n",
       "25%    121765.500000  30.000000  24.000000  33.000000  12.000000  26.000000\n",
       "50%    145632.000000  33.000000  27.000000  36.000000  16.000000  31.000000\n",
       "75%    197175.250000  37.000000  30.000000  39.000000  19.750000  34.000000\n",
       "max    899885.000000  45.000000  44.000000  45.000000  39.000000  40.000000"
      ]
     },
     "execution_count": 20,
     "metadata": {},
     "output_type": "execute_result"
    }
   ],
   "source": [
    "dat.describe()\n"
   ]
  },
  {
   "cell_type": "code",
   "execution_count": 21,
   "id": "3852dde3",
   "metadata": {},
   "outputs": [
    {
     "ename": "TypeError",
     "evalue": "'>=' not supported between instances of 'str' and 'float'",
     "output_type": "error",
     "traceback": [
      "\u001b[1;31m---------------------------------------------------------------------------\u001b[0m",
      "\u001b[1;31mTypeError\u001b[0m                                 Traceback (most recent call last)",
      "\u001b[1;32md:\\data\\notes\\心理学\\心理学实验编程\\孔祥祯\\02_stats\\02_stats.ipynb Cell 14\u001b[0m line \u001b[0;36m2\n\u001b[0;32m      <a href='vscode-notebook-cell:/d%3A/data/notes/%E5%BF%83%E7%90%86%E5%AD%A6/%E5%BF%83%E7%90%86%E5%AD%A6%E5%AE%9E%E9%AA%8C%E7%BC%96%E7%A8%8B/%E5%AD%94%E7%A5%A5%E7%A5%AF/02_stats/02_stats.ipynb#X16sZmlsZQ%3D%3D?line=0'>1</a>\u001b[0m \u001b[39m#print(dat.max())\u001b[39;00m\n\u001b[1;32m----> <a href='vscode-notebook-cell:/d%3A/data/notes/%E5%BF%83%E7%90%86%E5%AD%A6/%E5%BF%83%E7%90%86%E5%AD%A6%E5%AE%9E%E9%AA%8C%E7%BC%96%E7%A8%8B/%E5%AD%94%E7%A5%A5%E7%A5%AF/02_stats/02_stats.ipynb#X16sZmlsZQ%3D%3D?line=1'>2</a>\u001b[0m \u001b[39mprint\u001b[39m(dat\u001b[39m.\u001b[39;49mmax(axis\u001b[39m=\u001b[39;49m\u001b[39m0\u001b[39;49m))\n\u001b[0;32m      <a href='vscode-notebook-cell:/d%3A/data/notes/%E5%BF%83%E7%90%86%E5%AD%A6/%E5%BF%83%E7%90%86%E5%AD%A6%E5%AE%9E%E9%AA%8C%E7%BC%96%E7%A8%8B/%E5%AD%94%E7%A5%A5%E7%A5%AF/02_stats/02_stats.ipynb#X16sZmlsZQ%3D%3D?line=2'>3</a>\u001b[0m \u001b[39mprint\u001b[39m(dat\u001b[39m.\u001b[39mmax(axis\u001b[39m=\u001b[39m\u001b[39m1\u001b[39m))\n",
      "File \u001b[1;32md:\\program\\python\\Lib\\site-packages\\pandas\\core\\frame.py:11298\u001b[0m, in \u001b[0;36mDataFrame.max\u001b[1;34m(self, axis, skipna, numeric_only, **kwargs)\u001b[0m\n\u001b[0;32m  11290\u001b[0m \u001b[39m@doc\u001b[39m(make_doc(\u001b[39m\"\u001b[39m\u001b[39mmax\u001b[39m\u001b[39m\"\u001b[39m, ndim\u001b[39m=\u001b[39m\u001b[39m2\u001b[39m))\n\u001b[0;32m  11291\u001b[0m \u001b[39mdef\u001b[39;00m \u001b[39mmax\u001b[39m(\n\u001b[0;32m  11292\u001b[0m     \u001b[39mself\u001b[39m,\n\u001b[1;32m   (...)\u001b[0m\n\u001b[0;32m  11296\u001b[0m     \u001b[39m*\u001b[39m\u001b[39m*\u001b[39mkwargs,\n\u001b[0;32m  11297\u001b[0m ):\n\u001b[1;32m> 11298\u001b[0m     result \u001b[39m=\u001b[39m \u001b[39msuper\u001b[39;49m()\u001b[39m.\u001b[39;49mmax(axis, skipna, numeric_only, \u001b[39m*\u001b[39;49m\u001b[39m*\u001b[39;49mkwargs)\n\u001b[0;32m  11299\u001b[0m     \u001b[39mif\u001b[39;00m \u001b[39misinstance\u001b[39m(result, Series):\n\u001b[0;32m  11300\u001b[0m         result \u001b[39m=\u001b[39m result\u001b[39m.\u001b[39m__finalize__(\u001b[39mself\u001b[39m, method\u001b[39m=\u001b[39m\u001b[39m\"\u001b[39m\u001b[39mmax\u001b[39m\u001b[39m\"\u001b[39m)\n",
      "File \u001b[1;32md:\\program\\python\\Lib\\site-packages\\pandas\\core\\generic.py:11968\u001b[0m, in \u001b[0;36mNDFrame.max\u001b[1;34m(self, axis, skipna, numeric_only, **kwargs)\u001b[0m\n\u001b[0;32m  11961\u001b[0m \u001b[39mdef\u001b[39;00m \u001b[39mmax\u001b[39m(\n\u001b[0;32m  11962\u001b[0m     \u001b[39mself\u001b[39m,\n\u001b[0;32m  11963\u001b[0m     axis: Axis \u001b[39m|\u001b[39m \u001b[39mNone\u001b[39;00m \u001b[39m=\u001b[39m \u001b[39m0\u001b[39m,\n\u001b[1;32m   (...)\u001b[0m\n\u001b[0;32m  11966\u001b[0m     \u001b[39m*\u001b[39m\u001b[39m*\u001b[39mkwargs,\n\u001b[0;32m  11967\u001b[0m ):\n\u001b[1;32m> 11968\u001b[0m     \u001b[39mreturn\u001b[39;00m \u001b[39mself\u001b[39;49m\u001b[39m.\u001b[39;49m_stat_function(\n\u001b[0;32m  11969\u001b[0m         \u001b[39m\"\u001b[39;49m\u001b[39mmax\u001b[39;49m\u001b[39m\"\u001b[39;49m,\n\u001b[0;32m  11970\u001b[0m         nanops\u001b[39m.\u001b[39;49mnanmax,\n\u001b[0;32m  11971\u001b[0m         axis,\n\u001b[0;32m  11972\u001b[0m         skipna,\n\u001b[0;32m  11973\u001b[0m         numeric_only,\n\u001b[0;32m  11974\u001b[0m         \u001b[39m*\u001b[39;49m\u001b[39m*\u001b[39;49mkwargs,\n\u001b[0;32m  11975\u001b[0m     )\n",
      "File \u001b[1;32md:\\program\\python\\Lib\\site-packages\\pandas\\core\\generic.py:11941\u001b[0m, in \u001b[0;36mNDFrame._stat_function\u001b[1;34m(self, name, func, axis, skipna, numeric_only, **kwargs)\u001b[0m\n\u001b[0;32m  11937\u001b[0m nv\u001b[39m.\u001b[39mvalidate_func(name, (), kwargs)\n\u001b[0;32m  11939\u001b[0m validate_bool_kwarg(skipna, \u001b[39m\"\u001b[39m\u001b[39mskipna\u001b[39m\u001b[39m\"\u001b[39m, none_allowed\u001b[39m=\u001b[39m\u001b[39mFalse\u001b[39;00m)\n\u001b[1;32m> 11941\u001b[0m \u001b[39mreturn\u001b[39;00m \u001b[39mself\u001b[39;49m\u001b[39m.\u001b[39;49m_reduce(\n\u001b[0;32m  11942\u001b[0m     func, name\u001b[39m=\u001b[39;49mname, axis\u001b[39m=\u001b[39;49maxis, skipna\u001b[39m=\u001b[39;49mskipna, numeric_only\u001b[39m=\u001b[39;49mnumeric_only\n\u001b[0;32m  11943\u001b[0m )\n",
      "File \u001b[1;32md:\\program\\python\\Lib\\site-packages\\pandas\\core\\frame.py:11204\u001b[0m, in \u001b[0;36mDataFrame._reduce\u001b[1;34m(self, op, name, axis, skipna, numeric_only, filter_type, **kwds)\u001b[0m\n\u001b[0;32m  11200\u001b[0m     df \u001b[39m=\u001b[39m df\u001b[39m.\u001b[39mT\n\u001b[0;32m  11202\u001b[0m \u001b[39m# After possibly _get_data and transposing, we are now in the\u001b[39;00m\n\u001b[0;32m  11203\u001b[0m \u001b[39m#  simple case where we can use BlockManager.reduce\u001b[39;00m\n\u001b[1;32m> 11204\u001b[0m res \u001b[39m=\u001b[39m df\u001b[39m.\u001b[39;49m_mgr\u001b[39m.\u001b[39;49mreduce(blk_func)\n\u001b[0;32m  11205\u001b[0m out \u001b[39m=\u001b[39m df\u001b[39m.\u001b[39m_constructor_from_mgr(res, axes\u001b[39m=\u001b[39mres\u001b[39m.\u001b[39maxes)\u001b[39m.\u001b[39miloc[\u001b[39m0\u001b[39m]\n\u001b[0;32m  11206\u001b[0m \u001b[39mif\u001b[39;00m out_dtype \u001b[39mis\u001b[39;00m \u001b[39mnot\u001b[39;00m \u001b[39mNone\u001b[39;00m \u001b[39mand\u001b[39;00m out\u001b[39m.\u001b[39mdtype \u001b[39m!=\u001b[39m \u001b[39m\"\u001b[39m\u001b[39mboolean\u001b[39m\u001b[39m\"\u001b[39m:\n",
      "File \u001b[1;32md:\\program\\python\\Lib\\site-packages\\pandas\\core\\internals\\managers.py:1459\u001b[0m, in \u001b[0;36mBlockManager.reduce\u001b[1;34m(self, func)\u001b[0m\n\u001b[0;32m   1457\u001b[0m res_blocks: \u001b[39mlist\u001b[39m[Block] \u001b[39m=\u001b[39m []\n\u001b[0;32m   1458\u001b[0m \u001b[39mfor\u001b[39;00m blk \u001b[39min\u001b[39;00m \u001b[39mself\u001b[39m\u001b[39m.\u001b[39mblocks:\n\u001b[1;32m-> 1459\u001b[0m     nbs \u001b[39m=\u001b[39m blk\u001b[39m.\u001b[39;49mreduce(func)\n\u001b[0;32m   1460\u001b[0m     res_blocks\u001b[39m.\u001b[39mextend(nbs)\n\u001b[0;32m   1462\u001b[0m index \u001b[39m=\u001b[39m Index([\u001b[39mNone\u001b[39;00m])  \u001b[39m# placeholder\u001b[39;00m\n",
      "File \u001b[1;32md:\\program\\python\\Lib\\site-packages\\pandas\\core\\internals\\blocks.py:377\u001b[0m, in \u001b[0;36mBlock.reduce\u001b[1;34m(self, func)\u001b[0m\n\u001b[0;32m    371\u001b[0m \u001b[39m@final\u001b[39m\n\u001b[0;32m    372\u001b[0m \u001b[39mdef\u001b[39;00m \u001b[39mreduce\u001b[39m(\u001b[39mself\u001b[39m, func) \u001b[39m-\u001b[39m\u001b[39m>\u001b[39m \u001b[39mlist\u001b[39m[Block]:\n\u001b[0;32m    373\u001b[0m     \u001b[39m# We will apply the function and reshape the result into a single-row\u001b[39;00m\n\u001b[0;32m    374\u001b[0m     \u001b[39m#  Block with the same mgr_locs; squeezing will be done at a higher level\u001b[39;00m\n\u001b[0;32m    375\u001b[0m     \u001b[39massert\u001b[39;00m \u001b[39mself\u001b[39m\u001b[39m.\u001b[39mndim \u001b[39m==\u001b[39m \u001b[39m2\u001b[39m\n\u001b[1;32m--> 377\u001b[0m     result \u001b[39m=\u001b[39m func(\u001b[39mself\u001b[39;49m\u001b[39m.\u001b[39;49mvalues)\n\u001b[0;32m    379\u001b[0m     \u001b[39mif\u001b[39;00m \u001b[39mself\u001b[39m\u001b[39m.\u001b[39mvalues\u001b[39m.\u001b[39mndim \u001b[39m==\u001b[39m \u001b[39m1\u001b[39m:\n\u001b[0;32m    380\u001b[0m         res_values \u001b[39m=\u001b[39m result\n",
      "File \u001b[1;32md:\\program\\python\\Lib\\site-packages\\pandas\\core\\frame.py:11136\u001b[0m, in \u001b[0;36mDataFrame._reduce.<locals>.blk_func\u001b[1;34m(values, axis)\u001b[0m\n\u001b[0;32m  11134\u001b[0m         \u001b[39mreturn\u001b[39;00m np\u001b[39m.\u001b[39marray([result])\n\u001b[0;32m  11135\u001b[0m \u001b[39melse\u001b[39;00m:\n\u001b[1;32m> 11136\u001b[0m     \u001b[39mreturn\u001b[39;00m op(values, axis\u001b[39m=\u001b[39;49maxis, skipna\u001b[39m=\u001b[39;49mskipna, \u001b[39m*\u001b[39;49m\u001b[39m*\u001b[39;49mkwds)\n",
      "File \u001b[1;32md:\\program\\python\\Lib\\site-packages\\pandas\\core\\nanops.py:147\u001b[0m, in \u001b[0;36mbottleneck_switch.__call__.<locals>.f\u001b[1;34m(values, axis, skipna, **kwds)\u001b[0m\n\u001b[0;32m    145\u001b[0m         result \u001b[39m=\u001b[39m alt(values, axis\u001b[39m=\u001b[39maxis, skipna\u001b[39m=\u001b[39mskipna, \u001b[39m*\u001b[39m\u001b[39m*\u001b[39mkwds)\n\u001b[0;32m    146\u001b[0m \u001b[39melse\u001b[39;00m:\n\u001b[1;32m--> 147\u001b[0m     result \u001b[39m=\u001b[39m alt(values, axis\u001b[39m=\u001b[39;49maxis, skipna\u001b[39m=\u001b[39;49mskipna, \u001b[39m*\u001b[39;49m\u001b[39m*\u001b[39;49mkwds)\n\u001b[0;32m    149\u001b[0m \u001b[39mreturn\u001b[39;00m result\n",
      "File \u001b[1;32md:\\program\\python\\Lib\\site-packages\\pandas\\core\\nanops.py:404\u001b[0m, in \u001b[0;36m_datetimelike_compat.<locals>.new_func\u001b[1;34m(values, axis, skipna, mask, **kwargs)\u001b[0m\n\u001b[0;32m    401\u001b[0m \u001b[39mif\u001b[39;00m datetimelike \u001b[39mand\u001b[39;00m mask \u001b[39mis\u001b[39;00m \u001b[39mNone\u001b[39;00m:\n\u001b[0;32m    402\u001b[0m     mask \u001b[39m=\u001b[39m isna(values)\n\u001b[1;32m--> 404\u001b[0m result \u001b[39m=\u001b[39m func(values, axis\u001b[39m=\u001b[39;49maxis, skipna\u001b[39m=\u001b[39;49mskipna, mask\u001b[39m=\u001b[39;49mmask, \u001b[39m*\u001b[39;49m\u001b[39m*\u001b[39;49mkwargs)\n\u001b[0;32m    406\u001b[0m \u001b[39mif\u001b[39;00m datetimelike:\n\u001b[0;32m    407\u001b[0m     result \u001b[39m=\u001b[39m _wrap_results(result, orig_values\u001b[39m.\u001b[39mdtype, fill_value\u001b[39m=\u001b[39miNaT)\n",
      "File \u001b[1;32md:\\program\\python\\Lib\\site-packages\\pandas\\core\\nanops.py:1092\u001b[0m, in \u001b[0;36m_nanminmax.<locals>.reduction\u001b[1;34m(values, axis, skipna, mask)\u001b[0m\n\u001b[0;32m   1087\u001b[0m     \u001b[39mreturn\u001b[39;00m _na_for_min_count(values, axis)\n\u001b[0;32m   1089\u001b[0m values, mask \u001b[39m=\u001b[39m _get_values(\n\u001b[0;32m   1090\u001b[0m     values, skipna, fill_value_typ\u001b[39m=\u001b[39mfill_value_typ, mask\u001b[39m=\u001b[39mmask\n\u001b[0;32m   1091\u001b[0m )\n\u001b[1;32m-> 1092\u001b[0m result \u001b[39m=\u001b[39m \u001b[39mgetattr\u001b[39;49m(values, meth)(axis)\n\u001b[0;32m   1093\u001b[0m result \u001b[39m=\u001b[39m _maybe_null_out(result, axis, mask, values\u001b[39m.\u001b[39mshape)\n\u001b[0;32m   1094\u001b[0m \u001b[39mreturn\u001b[39;00m result\n",
      "File \u001b[1;32md:\\program\\python\\Lib\\site-packages\\numpy\\core\\_methods.py:41\u001b[0m, in \u001b[0;36m_amax\u001b[1;34m(a, axis, out, keepdims, initial, where)\u001b[0m\n\u001b[0;32m     39\u001b[0m \u001b[39mdef\u001b[39;00m \u001b[39m_amax\u001b[39m(a, axis\u001b[39m=\u001b[39m\u001b[39mNone\u001b[39;00m, out\u001b[39m=\u001b[39m\u001b[39mNone\u001b[39;00m, keepdims\u001b[39m=\u001b[39m\u001b[39mFalse\u001b[39;00m,\n\u001b[0;32m     40\u001b[0m           initial\u001b[39m=\u001b[39m_NoValue, where\u001b[39m=\u001b[39m\u001b[39mTrue\u001b[39;00m):\n\u001b[1;32m---> 41\u001b[0m     \u001b[39mreturn\u001b[39;00m umr_maximum(a, axis, \u001b[39mNone\u001b[39;49;00m, out, keepdims, initial, where)\n",
      "\u001b[1;31mTypeError\u001b[0m: '>=' not supported between instances of 'str' and 'float'"
     ]
    }
   ],
   "source": [
    "#print(dat.max())\n",
    "print(dat.max(axis=0))\n",
    "print(dat.max(axis=1))\n"
   ]
  },
  {
   "cell_type": "code",
   "execution_count": null,
   "id": "317dcf29",
   "metadata": {},
   "outputs": [
    {
     "data": {
      "text/html": [
       "<div>\n",
       "<style scoped>\n",
       "    .dataframe tbody tr th:only-of-type {\n",
       "        vertical-align: middle;\n",
       "    }\n",
       "\n",
       "    .dataframe tbody tr th {\n",
       "        vertical-align: top;\n",
       "    }\n",
       "\n",
       "    .dataframe thead th {\n",
       "        text-align: right;\n",
       "    }\n",
       "</style>\n",
       "<table border=\"1\" class=\"dataframe\">\n",
       "  <thead>\n",
       "    <tr style=\"text-align: right;\">\n",
       "      <th></th>\n",
       "      <th>Subject</th>\n",
       "      <th>Gender</th>\n",
       "      <th>Age</th>\n",
       "      <th>NEOFAC_A</th>\n",
       "      <th>NEOFAC_O</th>\n",
       "      <th>NEOFAC_C</th>\n",
       "      <th>NEOFAC_N</th>\n",
       "      <th>NEOFAC_E</th>\n",
       "    </tr>\n",
       "  </thead>\n",
       "  <tbody>\n",
       "    <tr>\n",
       "      <th>0</th>\n",
       "      <td>100307</td>\n",
       "      <td>F</td>\n",
       "      <td>26-30</td>\n",
       "      <td>37.0</td>\n",
       "      <td>24.0</td>\n",
       "      <td>35.0</td>\n",
       "      <td>15.0</td>\n",
       "      <td>37.0</td>\n",
       "    </tr>\n",
       "    <tr>\n",
       "      <th>1</th>\n",
       "      <td>100408</td>\n",
       "      <td>M</td>\n",
       "      <td>31-35</td>\n",
       "      <td>33.0</td>\n",
       "      <td>29.0</td>\n",
       "      <td>34.0</td>\n",
       "      <td>15.0</td>\n",
       "      <td>33.0</td>\n",
       "    </tr>\n",
       "    <tr>\n",
       "      <th>6</th>\n",
       "      <td>103414</td>\n",
       "      <td>F</td>\n",
       "      <td>22-25</td>\n",
       "      <td>27.0</td>\n",
       "      <td>30.0</td>\n",
       "      <td>31.0</td>\n",
       "      <td>20.0</td>\n",
       "      <td>34.0</td>\n",
       "    </tr>\n",
       "    <tr>\n",
       "      <th>7</th>\n",
       "      <td>103818</td>\n",
       "      <td>F</td>\n",
       "      <td>31-35</td>\n",
       "      <td>36.0</td>\n",
       "      <td>26.0</td>\n",
       "      <td>34.0</td>\n",
       "      <td>24.0</td>\n",
       "      <td>16.0</td>\n",
       "    </tr>\n",
       "    <tr>\n",
       "      <th>8</th>\n",
       "      <td>105014</td>\n",
       "      <td>F</td>\n",
       "      <td>26-30</td>\n",
       "      <td>40.0</td>\n",
       "      <td>23.0</td>\n",
       "      <td>40.0</td>\n",
       "      <td>12.0</td>\n",
       "      <td>33.0</td>\n",
       "    </tr>\n",
       "    <tr>\n",
       "      <th>...</th>\n",
       "      <td>...</td>\n",
       "      <td>...</td>\n",
       "      <td>...</td>\n",
       "      <td>...</td>\n",
       "      <td>...</td>\n",
       "      <td>...</td>\n",
       "      <td>...</td>\n",
       "      <td>...</td>\n",
       "    </tr>\n",
       "    <tr>\n",
       "      <th>95</th>\n",
       "      <td>756055</td>\n",
       "      <td>M</td>\n",
       "      <td>22-25</td>\n",
       "      <td>37.0</td>\n",
       "      <td>29.0</td>\n",
       "      <td>36.0</td>\n",
       "      <td>12.0</td>\n",
       "      <td>36.0</td>\n",
       "    </tr>\n",
       "    <tr>\n",
       "      <th>96</th>\n",
       "      <td>792564</td>\n",
       "      <td>F</td>\n",
       "      <td>31-35</td>\n",
       "      <td>43.0</td>\n",
       "      <td>29.0</td>\n",
       "      <td>39.0</td>\n",
       "      <td>14.0</td>\n",
       "      <td>37.0</td>\n",
       "    </tr>\n",
       "    <tr>\n",
       "      <th>97</th>\n",
       "      <td>856766</td>\n",
       "      <td>F</td>\n",
       "      <td>31-35</td>\n",
       "      <td>37.0</td>\n",
       "      <td>28.0</td>\n",
       "      <td>39.0</td>\n",
       "      <td>20.0</td>\n",
       "      <td>38.0</td>\n",
       "    </tr>\n",
       "    <tr>\n",
       "      <th>98</th>\n",
       "      <td>857263</td>\n",
       "      <td>M</td>\n",
       "      <td>22-25</td>\n",
       "      <td>36.0</td>\n",
       "      <td>23.0</td>\n",
       "      <td>42.0</td>\n",
       "      <td>12.0</td>\n",
       "      <td>30.0</td>\n",
       "    </tr>\n",
       "    <tr>\n",
       "      <th>99</th>\n",
       "      <td>899885</td>\n",
       "      <td>F</td>\n",
       "      <td>26-30</td>\n",
       "      <td>33.0</td>\n",
       "      <td>20.0</td>\n",
       "      <td>40.0</td>\n",
       "      <td>17.0</td>\n",
       "      <td>16.0</td>\n",
       "    </tr>\n",
       "  </tbody>\n",
       "</table>\n",
       "<p>77 rows × 8 columns</p>\n",
       "</div>"
      ],
      "text/plain": [
       "    Subject Gender    Age  NEOFAC_A  NEOFAC_O  NEOFAC_C  NEOFAC_N  NEOFAC_E\n",
       "0    100307      F  26-30      37.0      24.0      35.0      15.0      37.0\n",
       "1    100408      M  31-35      33.0      29.0      34.0      15.0      33.0\n",
       "6    103414      F  22-25      27.0      30.0      31.0      20.0      34.0\n",
       "7    103818      F  31-35      36.0      26.0      34.0      24.0      16.0\n",
       "8    105014      F  26-30      40.0      23.0      40.0      12.0      33.0\n",
       "..      ...    ...    ...       ...       ...       ...       ...       ...\n",
       "95   756055      M  22-25      37.0      29.0      36.0      12.0      36.0\n",
       "96   792564      F  31-35      43.0      29.0      39.0      14.0      37.0\n",
       "97   856766      F  31-35      37.0      28.0      39.0      20.0      38.0\n",
       "98   857263      M  22-25      36.0      23.0      42.0      12.0      30.0\n",
       "99   899885      F  26-30      33.0      20.0      40.0      17.0      16.0\n",
       "\n",
       "[77 rows x 8 columns]"
      ]
     },
     "execution_count": 19,
     "metadata": {},
     "output_type": "execute_result"
    }
   ],
   "source": [
    "dat_clean = dat.dropna()\n",
    "dat_clean\n"
   ]
  },
  {
   "cell_type": "code",
   "execution_count": 29,
   "id": "b67b506f",
   "metadata": {},
   "outputs": [
    {
     "data": {
      "text/html": [
       "<div>\n",
       "<style scoped>\n",
       "    .dataframe tbody tr th:only-of-type {\n",
       "        vertical-align: middle;\n",
       "    }\n",
       "\n",
       "    .dataframe tbody tr th {\n",
       "        vertical-align: top;\n",
       "    }\n",
       "\n",
       "    .dataframe thead th {\n",
       "        text-align: right;\n",
       "    }\n",
       "</style>\n",
       "<table border=\"1\" class=\"dataframe\">\n",
       "  <thead>\n",
       "    <tr style=\"text-align: right;\">\n",
       "      <th></th>\n",
       "      <th>Subject</th>\n",
       "      <th>Gender</th>\n",
       "      <th>Age</th>\n",
       "      <th>NEOFAC_A</th>\n",
       "      <th>NEOFAC_O</th>\n",
       "      <th>NEOFAC_C</th>\n",
       "      <th>NEOFAC_N</th>\n",
       "      <th>NEOFAC_E</th>\n",
       "    </tr>\n",
       "  </thead>\n",
       "  <tbody>\n",
       "    <tr>\n",
       "      <th>0</th>\n",
       "      <td>100307</td>\n",
       "      <td>F</td>\n",
       "      <td>26-30</td>\n",
       "      <td>37.0</td>\n",
       "      <td>24.0</td>\n",
       "      <td>35.0</td>\n",
       "      <td>15.0</td>\n",
       "      <td>37.0</td>\n",
       "    </tr>\n",
       "    <tr>\n",
       "      <th>1</th>\n",
       "      <td>100408</td>\n",
       "      <td>M</td>\n",
       "      <td>31-35</td>\n",
       "      <td>33.0</td>\n",
       "      <td>29.0</td>\n",
       "      <td>34.0</td>\n",
       "      <td>15.0</td>\n",
       "      <td>33.0</td>\n",
       "    </tr>\n",
       "    <tr>\n",
       "      <th>2</th>\n",
       "      <td>101107</td>\n",
       "      <td>M</td>\n",
       "      <td>22-25</td>\n",
       "      <td>NaN</td>\n",
       "      <td>35.0</td>\n",
       "      <td>37.0</td>\n",
       "      <td>12.0</td>\n",
       "      <td>28.0</td>\n",
       "    </tr>\n",
       "    <tr>\n",
       "      <th>3</th>\n",
       "      <td>101309</td>\n",
       "      <td>M</td>\n",
       "      <td>26-30</td>\n",
       "      <td>NaN</td>\n",
       "      <td>22.0</td>\n",
       "      <td>36.0</td>\n",
       "      <td>2.0</td>\n",
       "      <td>26.0</td>\n",
       "    </tr>\n",
       "    <tr>\n",
       "      <th>4</th>\n",
       "      <td>101915</td>\n",
       "      <td>F</td>\n",
       "      <td>31-35</td>\n",
       "      <td>NaN</td>\n",
       "      <td>30.0</td>\n",
       "      <td>45.0</td>\n",
       "      <td>8.0</td>\n",
       "      <td>31.0</td>\n",
       "    </tr>\n",
       "    <tr>\n",
       "      <th>...</th>\n",
       "      <td>...</td>\n",
       "      <td>...</td>\n",
       "      <td>...</td>\n",
       "      <td>...</td>\n",
       "      <td>...</td>\n",
       "      <td>...</td>\n",
       "      <td>...</td>\n",
       "      <td>...</td>\n",
       "    </tr>\n",
       "    <tr>\n",
       "      <th>95</th>\n",
       "      <td>756055</td>\n",
       "      <td>M</td>\n",
       "      <td>22-25</td>\n",
       "      <td>37.0</td>\n",
       "      <td>29.0</td>\n",
       "      <td>36.0</td>\n",
       "      <td>12.0</td>\n",
       "      <td>36.0</td>\n",
       "    </tr>\n",
       "    <tr>\n",
       "      <th>96</th>\n",
       "      <td>792564</td>\n",
       "      <td>F</td>\n",
       "      <td>31-35</td>\n",
       "      <td>43.0</td>\n",
       "      <td>29.0</td>\n",
       "      <td>39.0</td>\n",
       "      <td>14.0</td>\n",
       "      <td>37.0</td>\n",
       "    </tr>\n",
       "    <tr>\n",
       "      <th>97</th>\n",
       "      <td>856766</td>\n",
       "      <td>F</td>\n",
       "      <td>31-35</td>\n",
       "      <td>37.0</td>\n",
       "      <td>28.0</td>\n",
       "      <td>39.0</td>\n",
       "      <td>20.0</td>\n",
       "      <td>38.0</td>\n",
       "    </tr>\n",
       "    <tr>\n",
       "      <th>98</th>\n",
       "      <td>857263</td>\n",
       "      <td>M</td>\n",
       "      <td>22-25</td>\n",
       "      <td>36.0</td>\n",
       "      <td>23.0</td>\n",
       "      <td>42.0</td>\n",
       "      <td>12.0</td>\n",
       "      <td>30.0</td>\n",
       "    </tr>\n",
       "    <tr>\n",
       "      <th>99</th>\n",
       "      <td>899885</td>\n",
       "      <td>F</td>\n",
       "      <td>26-30</td>\n",
       "      <td>33.0</td>\n",
       "      <td>20.0</td>\n",
       "      <td>40.0</td>\n",
       "      <td>17.0</td>\n",
       "      <td>16.0</td>\n",
       "    </tr>\n",
       "  </tbody>\n",
       "</table>\n",
       "<p>88 rows × 8 columns</p>\n",
       "</div>"
      ],
      "text/plain": [
       "    Subject Gender    Age  NEOFAC_A  NEOFAC_O  NEOFAC_C  NEOFAC_N  NEOFAC_E\n",
       "0    100307      F  26-30      37.0      24.0      35.0      15.0      37.0\n",
       "1    100408      M  31-35      33.0      29.0      34.0      15.0      33.0\n",
       "2    101107      M  22-25       NaN      35.0      37.0      12.0      28.0\n",
       "3    101309      M  26-30       NaN      22.0      36.0       2.0      26.0\n",
       "4    101915      F  31-35       NaN      30.0      45.0       8.0      31.0\n",
       "..      ...    ...    ...       ...       ...       ...       ...       ...\n",
       "95   756055      M  22-25      37.0      29.0      36.0      12.0      36.0\n",
       "96   792564      F  31-35      43.0      29.0      39.0      14.0      37.0\n",
       "97   856766      F  31-35      37.0      28.0      39.0      20.0      38.0\n",
       "98   857263      M  22-25      36.0      23.0      42.0      12.0      30.0\n",
       "99   899885      F  26-30      33.0      20.0      40.0      17.0      16.0\n",
       "\n",
       "[88 rows x 8 columns]"
      ]
     },
     "execution_count": 29,
     "metadata": {},
     "output_type": "execute_result"
    }
   ],
   "source": [
    "dat_clean = dat.dropna(subset=['NEOFAC_C','NEOFAC_N','NEOFAC_E'])\n",
    "dat_clean\n"
   ]
  },
  {
   "cell_type": "markdown",
   "id": "b97c4b4b",
   "metadata": {},
   "source": [
    "# Stats\n",
    "## Pearson correlation"
   ]
  },
  {
   "cell_type": "code",
   "execution_count": 30,
   "id": "306ec8d3",
   "metadata": {},
   "outputs": [
    {
     "data": {
      "image/png": "[encoded data removed]",
      "text/plain": [
       "<Figure size 640x480 with 1 Axes>"
      ]
     },
     "metadata": {},
     "output_type": "display_data"
    }
   ],
   "source": [
    "plt.scatter(dat_clean['NEOFAC_N'], dat_clean['NEOFAC_E'])\n",
    "plt.show()\n",
    "\n"
   ]
  },
  {
   "cell_type": "code",
   "execution_count": null,
   "id": "490f56f4",
   "metadata": {},
   "outputs": [
    {
     "name": "stdout",
     "output_type": "stream",
     "text": [
      "[[ 1.         -0.36450876]\n",
      " [-0.36450876  1.        ]]\n"
     ]
    }
   ],
   "source": [
    "# numpy\n",
    "rs = np.corrcoef(dat_clean['NEOFAC_N'], dat_clean['NEOFAC_E'])\n",
    "print(r)\n"
   ]
  },
  {
   "cell_type": "code",
   "execution_count": null,
   "id": "bf721d30",
   "metadata": {},
   "outputs": [
    {
     "name": "stdout",
     "output_type": "stream",
     "text": [
      "-0.36450875746142813\n"
     ]
    }
   ],
   "source": [
    "print(rs[0,1])\n"
   ]
  },
  {
   "cell_type": "markdown",
   "id": "c35b4da7",
   "metadata": {},
   "source": [
    "$$\n",
    "t = \\frac{r\\sqrt{n-2}}{\\sqrt{1-r^2}}\n",
    "$$"
   ]
  },
  {
   "cell_type": "code",
   "execution_count": null,
   "id": "01354afb",
   "metadata": {},
   "outputs": [
    {
     "name": "stdout",
     "output_type": "stream",
     "text": [
      "p =  0.0004804257581913459\n"
     ]
    }
   ],
   "source": [
    "import scipy.stats\n",
    "r = rs[0,1]\n",
    "t = r*np.sqrt(len(dat_clean['NEOFAC_N'])-2)/np.sqrt(1-r**2)\n",
    "p = scipy.stats.t.sf(abs(t), df=len(dat_clean['NEOFAC_N'])-2)*2\n",
    "print('p = ',p)\n"
   ]
  },
  {
   "cell_type": "code",
   "execution_count": null,
   "id": "ee4a91b9",
   "metadata": {},
   "outputs": [
    {
     "name": "stdout",
     "output_type": "stream",
     "text": [
      "-0.3645087574614279 0.0004804257581913518\n"
     ]
    }
   ],
   "source": [
    "# scipy\n",
    "from scipy.stats import pearsonr\n",
    "\n",
    "r, p = pearsonr(dat_clean['NEOFAC_N'], dat_clean['NEOFAC_E'])\n",
    "print(r, p )\n"
   ]
  },
  {
   "cell_type": "code",
   "execution_count": null,
   "id": "95fdc770",
   "metadata": {},
   "outputs": [
    {
     "name": "stdout",
     "output_type": "stream",
     "text": [
      "-0.31910851500513754 0.0024427173139140077\n"
     ]
    }
   ],
   "source": [
    "from scipy.stats import spearmanr\n",
    "\n",
    "rho, p = spearmanr(dat_clean['NEOFAC_N'], dat_clean['NEOFAC_E'])\n",
    "print(rho, p )\n"
   ]
  },
  {
   "cell_type": "code",
   "execution_count": null,
   "id": "00b8035f",
   "metadata": {},
   "outputs": [
    {
     "name": "stdout",
     "output_type": "stream",
     "text": [
      "          NEOFAC_N  NEOFAC_E\n",
      "NEOFAC_N  1.000000 -0.364509\n",
      "NEOFAC_E -0.364509  1.000000\n",
      "          NEOFAC_N  NEOFAC_E\n",
      "NEOFAC_N  1.000000 -0.319109\n",
      "NEOFAC_E -0.319109  1.000000\n"
     ]
    }
   ],
   "source": [
    "# pandas\n",
    "print(dat_clean[['NEOFAC_N','NEOFAC_E']].corr())\n",
    "print(dat_clean[['NEOFAC_N','NEOFAC_E']].corr(method='spearman'))\n"
   ]
  },
  {
   "cell_type": "code",
   "execution_count": 31,
   "id": "6867d5d1",
   "metadata": {},
   "outputs": [
    {
     "name": "stdout",
     "output_type": "stream",
     "text": [
      "-0.36450875746142797\n"
     ]
    }
   ],
   "source": [
    "r = dat_clean[['NEOFAC_N','NEOFAC_E']].corr().values\n",
    "print(r[0,1])\n",
    "\n"
   ]
  },
  {
   "cell_type": "markdown",
   "id": "33dc0f4f",
   "metadata": {},
   "source": [
    "# Matplotlib\n",
    "## add_subplot()"
   ]
  },
  {
   "cell_type": "code",
   "execution_count": 40,
   "id": "8b6087d7",
   "metadata": {},
   "outputs": [
    {
     "data": {
      "image/png": "[encoded data removed]",
      "text/plain": [
       "<Figure size 800x800 with 4 Axes>"
      ]
     },
     "metadata": {},
     "output_type": "display_data"
    }
   ],
   "source": [
    "fig = plt.figure(figsize=(8,8))\n",
    "ax1 = fig.add_subplot(3,3,1)\n",
    "ax2 = fig.add_subplot(3,3,2)\n",
    "ax3 = fig.add_subplot(3,3,3)\n",
    "ax4 = fig.add_subplot(3,3,4)\n",
    "plt.show()\n"
   ]
  },
  {
   "cell_type": "code",
   "execution_count": null,
   "id": "eff277d2",
   "metadata": {},
   "outputs": [
    {
     "data": {
      "image/png": "[encoded data removed]",
      "text/plain": [
       "<Figure size 576x576 with 4 Axes>"
      ]
     },
     "metadata": {
      "needs_background": "light"
     },
     "output_type": "display_data"
    }
   ],
   "source": [
    "fig, axes = plt.subplots(2,2, figsize=(8,8))\n",
    "plt.show()\n"
   ]
  },
  {
   "cell_type": "code",
   "execution_count": 33,
   "id": "571c5665",
   "metadata": {},
   "outputs": [
    {
     "data": {
      "image/png": "[encoded data removed]",
      "text/plain": [
       "<Figure size 1600x1600 with 4 Axes>"
      ]
     },
     "metadata": {},
     "output_type": "display_data"
    }
   ],
   "source": [
    "fig, axes = plt.subplots(2,2, figsize=(8,8))\n",
    "axes[0,0].scatter(dat_clean['NEOFAC_N'], dat_clean['NEOFAC_E'])\n",
    "axes[0,1].hist(dat_clean['NEOFAC_N'])\n",
    "axes[1,0].bar(dat_clean['Gender'], dat_clean['NEOFAC_E'])\n",
    "axes[1,1].plot(dat_clean['NEOFAC_N'])\n",
    "plt.show()\n"
   ]
  },
  {
   "cell_type": "code",
   "execution_count": null,
   "id": "7c625335",
   "metadata": {},
   "outputs": [
    {
     "ename": "NameError",
     "evalue": "name 'plt' is not defined",
     "output_type": "error",
     "traceback": [
      "\u001b[1;31m---------------------------------------------------------------------------\u001b[0m",
      "\u001b[1;31mNameError\u001b[0m                                 Traceback (most recent call last)",
      "\u001b[1;32md:\\data\\notes\\心理学\\心理学实验编程\\孔祥祯\\02_stats\\02_stats.ipynb Cell 31\u001b[0m line \u001b[0;36m1\n\u001b[1;32m----> <a href='vscode-notebook-cell:/d%3A/data/notes/%E5%BF%83%E7%90%86%E5%AD%A6/%E5%BF%83%E7%90%86%E5%AD%A6%E5%AE%9E%E9%AA%8C%E7%BC%96%E7%A8%8B/%E5%AD%94%E7%A5%A5%E7%A5%AF/02_stats/02_stats.ipynb#X42sZmlsZQ%3D%3D?line=0'>1</a>\u001b[0m fig, axes \u001b[39m=\u001b[39m plt\u001b[39m.\u001b[39msubplots(\u001b[39m2\u001b[39m,\u001b[39m2\u001b[39m, figsize\u001b[39m=\u001b[39m(\u001b[39m16\u001b[39m,\u001b[39m16\u001b[39m))\n\u001b[0;32m      <a href='vscode-notebook-cell:/d%3A/data/notes/%E5%BF%83%E7%90%86%E5%AD%A6/%E5%BF%83%E7%90%86%E5%AD%A6%E5%AE%9E%E9%AA%8C%E7%BC%96%E7%A8%8B/%E5%AD%94%E7%A5%A5%E7%A5%AF/02_stats/02_stats.ipynb#X42sZmlsZQ%3D%3D?line=1'>2</a>\u001b[0m axes[\u001b[39m0\u001b[39m,\u001b[39m0\u001b[39m]\u001b[39m.\u001b[39mscatter(dat_clean[\u001b[39m'\u001b[39m\u001b[39mNEOFAC_N\u001b[39m\u001b[39m'\u001b[39m], dat_clean[\u001b[39m'\u001b[39m\u001b[39mNEOFAC_E\u001b[39m\u001b[39m'\u001b[39m])\n\u001b[0;32m      <a href='vscode-notebook-cell:/d%3A/data/notes/%E5%BF%83%E7%90%86%E5%AD%A6/%E5%BF%83%E7%90%86%E5%AD%A6%E5%AE%9E%E9%AA%8C%E7%BC%96%E7%A8%8B/%E5%AD%94%E7%A5%A5%E7%A5%AF/02_stats/02_stats.ipynb#X42sZmlsZQ%3D%3D?line=2'>3</a>\u001b[0m axes[\u001b[39m0\u001b[39m,\u001b[39m0\u001b[39m]\u001b[39m.\u001b[39mset_title(\u001b[39m'\u001b[39m\u001b[39mTitle\u001b[39m\u001b[39m'\u001b[39m)\n",
      "\u001b[1;31mNameError\u001b[0m: name 'plt' is not defined"
     ]
    }
   ],
   "source": [
    "fig, axes = plt.subplots(2,2, figsize=(16,16))\n",
    "axes[0,0].scatter(dat_clean['NEOFAC_N'], dat_clean['NEOFAC_E'])\n",
    "axes[0,0].set_title('Title')\n",
    "axes[0,0].set_xlabel('X Label')\n",
    "axes[0,0].set_ylabel('Y Label')\n",
    "\n",
    "axes[0,1].hist(dat_clean['NEOFAC_N'])\n",
    "axes[0,1].text(30,20, 'TEST')\n",
    "\n",
    "axes[1,0].bar(dat_clean['Gender'], dat_clean['NEOFAC_E'])\n",
    "\n",
    "axes[1,1].plot(dat_clean['NEOFAC_N'])\n",
    "\n",
    "plt.show()\n"
   ]
  },
  {
   "cell_type": "code",
   "execution_count": null,
   "id": "7f4c189c",
   "metadata": {},
   "outputs": [],
   "source": []
  }
 ],
 "metadata": {
  "kernelspec": {
   "display_name": "Python 3 (ipykernel)",
   "language": "python",
   "name": "python3"
  },
  "language_info": {
   "codemirror_mode": {
    "name": "ipython",
    "version": 3
   },
   "file_extension": ".py",
   "mimetype": "text/x-python",
   "name": "python",
   "nbconvert_exporter": "python",
   "pygments_lexer": "ipython3",
   "version": "3.12.0"
  }
 },
 "nbformat": 4,
 "nbformat_minor": 5
}
