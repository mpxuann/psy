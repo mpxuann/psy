{
 "cells": [
  {
   "cell_type": "code",
   "execution_count": 5,
   "metadata": {},
   "outputs": [
    {
     "ename": "ModuleNotFoundError",
     "evalue": "No module named 'psychopy'",
     "output_type": "error",
     "traceback": [
      "\u001b[1;31m---------------------------------------------------------------------------\u001b[0m",
      "\u001b[1;31mModuleNotFoundError\u001b[0m                       Traceback (most recent call last)",
      "Cell \u001b[1;32mIn[5], line 9\u001b[0m\n\u001b[0;32m      1\u001b[0m \u001b[38;5;66;03m#!/usr/bin/env python3\u001b[39;00m\n\u001b[0;32m      2\u001b[0m \u001b[38;5;66;03m#\u001b[39;00m\n\u001b[0;32m      3\u001b[0m \u001b[38;5;66;03m# Filename: first_script.py\u001b[39;00m\n\u001b[1;32m   (...)\u001b[0m\n\u001b[0;32m      7\u001b[0m \u001b[38;5;66;03m# Description:\u001b[39;00m\n\u001b[0;32m      8\u001b[0m \u001b[38;5;66;03m# A short but functioning script in PsychoPy\u001b[39;00m\n\u001b[1;32m----> 9\u001b[0m \u001b[38;5;28;01mfrom\u001b[39;00m \u001b[38;5;21;01mpsychopy\u001b[39;00m \u001b[38;5;28;01mimport\u001b[39;00m visual, core, event, monitors\n\u001b[0;32m     10\u001b[0m \u001b[38;5;66;03m# Set up the monitor parameters, so we can use 'deg' as the screen units\u001b[39;00m\n\u001b[0;32m     11\u001b[0m mon_mac15 \u001b[38;5;241m=\u001b[39m monitors\u001b[38;5;241m.\u001b[39mMonitor(\u001b[38;5;124m\"\u001b[39m\u001b[38;5;124mmac15\u001b[39m\u001b[38;5;124m\"\u001b[39m, distance\u001b[38;5;241m=\u001b[39m\u001b[38;5;241m57.0\u001b[39m, width\u001b[38;5;241m=\u001b[39m\u001b[38;5;241m32.0\u001b[39m)\n",
      "\u001b[1;31mModuleNotFoundError\u001b[0m: No module named 'psychopy'"
     ]
    }
   ],
   "source": [
    "#!/usr/bin/env python3\n",
    "#\n",
    "# Filename: first_script.py\n",
    "# Author: Zhiguo Wang\n",
    "# Date: 2/7/2021\n",
    "#\n",
    "# Description:\n",
    "# A short but functioning script in PsychoPy\n",
    "from psychopy import visual, core, event, monitors\n",
    "# Set up the monitor parameters, so we can use 'deg' as the screen units\n",
    "mon_mac15 = monitors.Monitor(\"mac15\", distance=57.0, width=32.0)\n",
    "mon_mac15.setSizePix([1280, 800])\n",
    "# Open a window\n",
    "win = visual.Window([800, 600], monitor=mon_mac15, units=\"deg\")\n",
    "# Prepare a Gabor in memory\n",
    "gabor = visual.GratingStim( win, tex=\"sin\", mask=\"gauss\", size=6.0,\n",
    "ori=45.0)\n",
    "# Draw the Gabor on screen and wait for a key press\n",
    "while not event.getKeys():\n",
    "# Draw the Gabor on screen\n",
    "    gabor.draw()\n",
    "    win.flip()\n",
    "# Update the phase following each screen refresh\n",
    "    gabor.phase += 0.05\n",
    "# close the window and quit PsychoPy\n",
    "win.close()\n",
    "core.quit()"
   ]
  },
  {
   "cell_type": "code",
   "execution_count": 6,
   "metadata": {},
   "outputs": [
    {
     "ename": "NameError",
     "evalue": "name 'psychopy' is not defined",
     "output_type": "error",
     "traceback": [
      "\u001b[1;31m---------------------------------------------------------------------------\u001b[0m",
      "\u001b[1;31mNameError\u001b[0m                                 Traceback (most recent call last)",
      "Cell \u001b[1;32mIn[6], line 1\u001b[0m\n\u001b[1;32m----> 1\u001b[0m \u001b[43mpsychopy\u001b[49m\n",
      "\u001b[1;31mNameError\u001b[0m: name 'psychopy' is not defined"
     ]
    }
   ],
   "source": []
  }
 ],
 "metadata": {
  "kernelspec": {
   "display_name": "Python 3",
   "language": "python",
   "name": "python3"
  },
  "language_info": {
   "codemirror_mode": {
    "name": "ipython",
    "version": 3
   },
   "file_extension": ".py",
   "mimetype": "text/x-python",
   "name": "python",
   "nbconvert_exporter": "python",
   "pygments_lexer": "ipython3",
   "version": "3.8.18"
  }
 },
 "nbformat": 4,
 "nbformat_minor": 2
}
